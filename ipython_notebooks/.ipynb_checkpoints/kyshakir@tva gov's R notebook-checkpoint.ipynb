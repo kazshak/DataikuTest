{
  "metadata": {
    "kernelspec": {
      "display_name": "R in CPU-M-1-cpu-4Gb-Ram (builtin env)",
      "language": "R",
      "name": "r-dku-containerized-venv--cpu-m-1-cpu-4gb-ram"
    },
    "creator": "kyshakir@tva.gov",
    "createdOn": 1692280825150,
    "tags": [],
    "customFields": {}
  },
  "nbformat": 4,
  "nbformat_minor": 0,
  "cells": [
    {
      "execution_count": 0,
      "cell_type": "code",
      "metadata": {},
      "source": [
        "library(dataiku)"
      ],
      "outputs": []
    },
    {
      "execution_count": 0,
      "cell_type": "code",
      "metadata": {},
      "source": [
        "# Example: load a DSS dataset as a R dataframe\n",
        "mydataset \u003c- dkuReadDataset(\"mydataset\", samplingMethod\u003d\"head\", nbRows\u003d100000)"
      ],
      "outputs": []
    },
    {
      "execution_count": 0,
      "cell_type": "code",
      "metadata": {},
      "source": [],
      "outputs": []
    }
  ]
}