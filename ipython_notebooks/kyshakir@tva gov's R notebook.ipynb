{
  "metadata": {
    "kernelspec": {
      "name": "r-dku-containerized-venv--cpu-m-1-cpu-4gb-ram",
      "display_name": "R in CPU-M-1-cpu-4Gb-Ram (builtin env)",
      "language": "R"
    },
    "creator": "kyshakir@tva.gov",
    "createdOn": 1692280825150,
    "tags": [],
    "customFields": {},
    "hide_input": false,
    "language_info": {
      "name": "R",
      "codemirror_mode": "r",
      "pygments_lexer": "r",
      "mimetype": "text/x-r-source",
      "file_extension": ".r",
      "version": "4.1.3"
    },
    "modifiedBy": "kyshakir@tva.gov"
  },
  "nbformat": 4,
  "nbformat_minor": 1,
  "cells": [
    {
      "execution_count": 0,
      "cell_type": "code",
      "metadata": {},
      "source": [
        "library(dataiku)"
      ],
      "outputs": []
    },
    {
      "execution_count": 0,
      "cell_type": "code",
      "metadata": {},
      "source": [
        ""
      ],
      "outputs": []
    },
    {
      "execution_count": 0,
      "cell_type": "code",
      "metadata": {},
      "source": [
        "# Example: load a DSS dataset as a R dataframe\nmydataset \u003c- dkuReadDataset(\"SampleDataSet\", samplingMethod\u003d\"head\", nbRows\u003d100000)"
      ],
      "outputs": []
    },
    {
      "execution_count": 0,
      "cell_type": "code",
      "metadata": {},
      "source": [
        "head()"
      ],
      "outputs": []
    }
  ]
}